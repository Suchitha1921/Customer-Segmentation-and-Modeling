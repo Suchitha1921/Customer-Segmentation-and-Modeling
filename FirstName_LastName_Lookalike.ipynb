{
 "cells": [
  {
   "cell_type": "code",
   "execution_count": 1,
   "id": "4a133a6a-2901-4ab4-966f-cc5c9b26eab5",
   "metadata": {},
   "outputs": [],
   "source": [
    "import pandas as pd\n",
    "from sklearn.metrics.pairwise import cosine_similarity\n",
    "from sklearn.preprocessing import LabelEncoder, StandardScaler"
   ]
  },
  {
   "cell_type": "code",
   "execution_count": 2,
   "id": "41433ebf-80ca-4c41-8524-e9d4db9d7182",
   "metadata": {},
   "outputs": [],
   "source": [
    "customers = pd.read_csv(\"Customers.csv\")\n",
    "products = pd.read_csv(\"Products.csv\")\n",
    "transactions = pd.read_csv(\"Transactions.csv\")"
   ]
  },
  {
   "cell_type": "code",
   "execution_count": 3,
   "id": "14860453-8ecf-4b48-a462-ecb6c3fe4fcb",
   "metadata": {},
   "outputs": [],
   "source": [
    "merged = transactions.merge(customers, on='CustomerID').merge(products, on='ProductID')"
   ]
  },
  {
   "cell_type": "code",
   "execution_count": 4,
   "id": "6a85d8f8-818c-4b59-9b39-313d7278d25c",
   "metadata": {},
   "outputs": [],
   "source": [
    "encoder = LabelEncoder()\n",
    "merged['Region'] = encoder.fit_transform(merged['Region'])\n",
    "merged['Category'] = encoder.fit_transform(merged['Category'])"
   ]
  },
  {
   "cell_type": "code",
   "execution_count": 8,
   "id": "290d05fe-665a-48a9-b094-81bace38d407",
   "metadata": {},
   "outputs": [],
   "source": [
    "# Aggregate Features by Customer\n",
    "customer_features = merged.groupby('CustomerID').agg({\n",
    "    'Region': 'first',\n",
    "    'Category': 'sum',\n",
    "    'TotalValue': 'sum',\n",
    "    'Quantity': 'sum'\n",
    "}).reset_index()"
   ]
  },
  {
   "cell_type": "code",
   "execution_count": 6,
   "id": "47889528-13ea-46d0-89b0-9445537f7ba6",
   "metadata": {},
   "outputs": [],
   "source": [
    "# Normalize Features\n",
    "scaler = StandardScaler()\n",
    "normalized_features = scaler.fit_transform(customer_features.iloc[:, 1:])"
   ]
  },
  {
   "cell_type": "code",
   "execution_count": 9,
   "id": "d5b234ac-c930-44f4-a5b8-a0762841e49a",
   "metadata": {},
   "outputs": [],
   "source": [
    "# Calculate Similarity\n",
    "similarity_matrix = cosine_similarity(normalized_features)"
   ]
  },
  {
   "cell_type": "code",
   "execution_count": 10,
   "id": "22ad56c1-e83d-4db9-a0e3-a30f13074046",
   "metadata": {},
   "outputs": [],
   "source": [
    "# Generate Lookalike Recommendations\n",
    "lookalike_results = {}\n",
    "for i, customer in enumerate(customer_features['CustomerID']):\n",
    "    similar_indices = similarity_matrix[i].argsort()[-4:-1][::-1]\n",
    "    similar_customers = [(customer_features['CustomerID'][j], similarity_matrix[i][j]) for j in similar_indices]\n",
    "    lookalike_results[customer] = similar_customers"
   ]
  },
  {
   "cell_type": "code",
   "execution_count": 11,
   "id": "71d43a2c-a734-40bf-ab72-09d7c44063e2",
   "metadata": {},
   "outputs": [],
   "source": [
    "# Save Lookalike Results\n",
    "import csv\n",
    "with open(\"FirstName_LastName_Lookalike.csv\", \"w\") as f:\n",
    "    writer = csv.writer(f)\n",
    "    writer.writerow([\"CustomerID\", \"Lookalikes\"])\n",
    "    for cust_id, lookalikes in lookalike_results.items():\n",
    "        writer.writerow([cust_id, lookalikes])"
   ]
  },
  {
   "cell_type": "code",
   "execution_count": null,
   "id": "25696b37-871c-4032-981d-c574b1503ec8",
   "metadata": {},
   "outputs": [],
   "source": []
  }
 ],
 "metadata": {
  "kernelspec": {
   "display_name": "Python 3 (ipykernel)",
   "language": "python",
   "name": "python3"
  },
  "language_info": {
   "codemirror_mode": {
    "name": "ipython",
    "version": 3
   },
   "file_extension": ".py",
   "mimetype": "text/x-python",
   "name": "python",
   "nbconvert_exporter": "python",
   "pygments_lexer": "ipython3",
   "version": "3.10.7"
  }
 },
 "nbformat": 4,
 "nbformat_minor": 5
}
